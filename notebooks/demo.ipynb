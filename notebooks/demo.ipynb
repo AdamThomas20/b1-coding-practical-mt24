{
 "cells": [
  {
   "cell_type": "code",
   "execution_count": 1,
   "metadata": {},
   "outputs": [],
   "source": [
    "# Add relevant Jupyter notebook extensions \n",
    "%load_ext autoreload\n",
    "%autoreload 2"
   ]
  },
  {
   "cell_type": "code",
   "execution_count": 2,
   "metadata": {},
   "outputs": [],
   "source": [
    "from uuv_mission import dynamic as dyn\n",
    "from uuv_mission import PDC\n",
    "\n"
   ]
  },
  {
   "cell_type": "code",
   "execution_count": 3,
   "metadata": {},
   "outputs": [
    {
     "name": "stdout",
     "output_type": "stream",
     "text": [
      "['c:\\\\ANACONDA\\\\envs\\\\B1_Scientific_Coding\\\\python311.zip', 'c:\\\\ANACONDA\\\\envs\\\\B1_Scientific_Coding\\\\DLLs', 'c:\\\\ANACONDA\\\\envs\\\\B1_Scientific_Coding\\\\Lib', 'c:\\\\ANACONDA\\\\envs\\\\B1_Scientific_Coding', '', 'c:\\\\ANACONDA\\\\envs\\\\B1_Scientific_Coding\\\\Lib\\\\site-packages', 'C:\\\\Users\\\\Adam Thomas\\\\OneDrive - Nexus365\\\\Documents\\\\Engineering\\\\Year 3\\\\B1\\\\Scientific Coding\\\\Assignment\\\\b1-coding-practical-mt24', 'c:\\\\ANACONDA\\\\envs\\\\B1_Scientific_Coding\\\\Lib\\\\site-packages\\\\win32', 'c:\\\\ANACONDA\\\\envs\\\\B1_Scientific_Coding\\\\Lib\\\\site-packages\\\\win32\\\\lib', 'c:\\\\ANACONDA\\\\envs\\\\B1_Scientific_Coding\\\\Lib\\\\site-packages\\\\Pythonwin', 'c:\\\\ANACONDA\\\\envs\\\\B1_Scientific_Coding\\\\Lib\\\\site-packages\\\\setuptools\\\\_vendor']\n"
     ]
    }
   ],
   "source": [
    "# You can double-check your Python path like this...\n",
    "import sys  \n",
    "print(sys.path)"
   ]
  },
  {
   "cell_type": "markdown",
   "metadata": {},
   "source": [
    "# Simulate closed-loop\n",
    "After implementing your control functionality, you can simulate the closed-loop with code that looks something like this..."
   ]
  },
  {
   "cell_type": "code",
   "execution_count": 4,
   "metadata": {},
   "outputs": [
    {
     "ename": "TypeError",
     "evalue": "unsupported operand type(s) for -: 'str' and 'int'",
     "output_type": "error",
     "traceback": [
      "\u001b[1;31m---------------------------------------------------------------------------\u001b[0m",
      "\u001b[1;31mTypeError\u001b[0m                                 Traceback (most recent call last)",
      "Cell \u001b[1;32mIn[4], line 8\u001b[0m\n\u001b[0;32m      5\u001b[0m closed_loop \u001b[38;5;241m=\u001b[39m dyn\u001b[38;5;241m.\u001b[39mClosedLoop(sub, controller)\n\u001b[0;32m      6\u001b[0m mission \u001b[38;5;241m=\u001b[39m dyn\u001b[38;5;241m.\u001b[39mMission\u001b[38;5;241m.\u001b[39mfrom_csv(\u001b[38;5;124m\"\u001b[39m\u001b[38;5;124m../data/mission.csv\u001b[39m\u001b[38;5;124m\"\u001b[39m) \u001b[38;5;66;03m# You must implement this method in the Mission class\u001b[39;00m\n\u001b[1;32m----> 8\u001b[0m trajectory \u001b[38;5;241m=\u001b[39m closed_loop\u001b[38;5;241m.\u001b[39msimulate_with_random_disturbances(mission)\n\u001b[0;32m      9\u001b[0m trajectory\u001b[38;5;241m.\u001b[39mplot_completed_mission(mission)\n",
      "File \u001b[1;32m~\\OneDrive - Nexus365\\Documents\\Engineering\\Year 3\\B1\\Scientific Coding\\Assignment\\b1-coding-practical-mt24\\uuv_mission\\dynamic.py:117\u001b[0m, in \u001b[0;36mClosedLoop.simulate_with_random_disturbances\u001b[1;34m(self, mission, variance)\u001b[0m\n\u001b[0;32m    115\u001b[0m \u001b[38;5;28;01mdef\u001b[39;00m \u001b[38;5;21msimulate_with_random_disturbances\u001b[39m(\u001b[38;5;28mself\u001b[39m, mission: Mission, variance: \u001b[38;5;28mfloat\u001b[39m \u001b[38;5;241m=\u001b[39m \u001b[38;5;241m0.5\u001b[39m) \u001b[38;5;241m-\u001b[39m\u001b[38;5;241m>\u001b[39m Trajectory:\n\u001b[0;32m    116\u001b[0m     disturbances \u001b[38;5;241m=\u001b[39m np\u001b[38;5;241m.\u001b[39mrandom\u001b[38;5;241m.\u001b[39mnormal(\u001b[38;5;241m0\u001b[39m, variance, \u001b[38;5;28mlen\u001b[39m(mission\u001b[38;5;241m.\u001b[39mreference))\n\u001b[1;32m--> 117\u001b[0m     \u001b[38;5;28;01mreturn\u001b[39;00m \u001b[38;5;28mself\u001b[39m\u001b[38;5;241m.\u001b[39msimulate(mission, disturbances)\n",
      "File \u001b[1;32m~\\OneDrive - Nexus365\\Documents\\Engineering\\Year 3\\B1\\Scientific Coding\\Assignment\\b1-coding-practical-mt24\\uuv_mission\\dynamic.py:106\u001b[0m, in \u001b[0;36mClosedLoop.simulate\u001b[1;34m(self, mission, disturbances)\u001b[0m\n\u001b[0;32m    104\u001b[0m observation_t \u001b[38;5;241m=\u001b[39m \u001b[38;5;28mself\u001b[39m\u001b[38;5;241m.\u001b[39mplant\u001b[38;5;241m.\u001b[39mget_depth()\n\u001b[0;32m    105\u001b[0m \u001b[38;5;66;03m# Call your controller here\u001b[39;00m\n\u001b[1;32m--> 106\u001b[0m e_t \u001b[38;5;241m=\u001b[39m mission\u001b[38;5;241m.\u001b[39mreference[t] \u001b[38;5;241m-\u001b[39m observation_t\n\u001b[0;32m    107\u001b[0m \u001b[38;5;28;01mif\u001b[39;00m t \u001b[38;5;241m==\u001b[39m T[\u001b[38;5;241m0\u001b[39m]:\n\u001b[0;32m    108\u001b[0m     e_t1 \u001b[38;5;241m=\u001b[39m \u001b[38;5;241m0\u001b[39m \u001b[38;5;66;03m# error at the previous time step\u001b[39;00m\n",
      "\u001b[1;31mTypeError\u001b[0m: unsupported operand type(s) for -: 'str' and 'int'"
     ]
    }
   ],
   "source": [
    "# Import relevant modules\n",
    "\n",
    "sub = dyn.Submarine()\n",
    "controller = PDC.controller()# Instantiate your controller (depending on your implementation)\n",
    "closed_loop = dyn.ClosedLoop(sub, controller)\n",
    "mission = dyn.Mission.from_csv(\"../data/mission.csv\") # You must implement this method in the Mission class\n",
    "\n",
    "trajectory = closed_loop.simulate_with_random_disturbances(mission)\n",
    "trajectory.plot_completed_mission(mission)"
   ]
  }
 ],
 "metadata": {
  "kernelspec": {
   "display_name": "B1_Scientific_Coding",
   "language": "python",
   "name": "python3"
  },
  "language_info": {
   "codemirror_mode": {
    "name": "ipython",
    "version": 3
   },
   "file_extension": ".py",
   "mimetype": "text/x-python",
   "name": "python",
   "nbconvert_exporter": "python",
   "pygments_lexer": "ipython3",
   "version": "3.11.10"
  }
 },
 "nbformat": 4,
 "nbformat_minor": 2
}
